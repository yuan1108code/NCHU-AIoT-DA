{
  "nbformat": 4,
  "nbformat_minor": 0,
  "metadata": {
    "colab": {
      "provenance": []
    },
    "kernelspec": {
      "name": "python3",
      "display_name": "Python 3"
    },
    "language_info": {
      "name": "python"
    }
  },
  "cells": [
    {
      "cell_type": "markdown",
      "source": [
        "# Lasso 按重要性選"
      ],
      "metadata": {
        "id": "T1HADjpQLyvp"
      }
    },
    {
      "cell_type": "markdown",
      "source": [
        "\n",
        "\n",
        "**chatGPT prompt**\n",
        "\n",
        "Solving the Boston Housing Problem using Scikit-Learn and CRISP-DM\n",
        "\n",
        "Step 1: Import the necessary libraries and download the dataset using a web crawler. Use the URL https://raw.githubusercontent.com/selva86/datasets/master/BostonHousing.csv to fetch the dataset. Convert the CSV content to a pandas DataFrame and print a summary of the dataset.\n",
        "\n",
        "Step 2: Prepare X, Y using Train-Test Split\n",
        "\n",
        "Split the dataset into training and testing sets using train_test_split function.\n",
        "\n",
        "Step 3: Build Model using Lasso\n",
        "\n",
        "Create a Lasso regression model and train it on the training data.\n",
        "\n",
        "Step 4: Evaluate Model by R2 Score and MSE\n",
        "\n",
        "Make predictions on the test set and calculate R-squared and Mean Squared Error.\n",
        "\n",
        "Step 5: Predict Y_test Value\n",
        "\n",
        "Print the predicted Y_test values obtained from the Lasso model.\n"
      ],
      "metadata": {
        "id": "HHzbBvrtkLgp"
      }
    },
    {
      "cell_type": "markdown",
      "source": [
        "# Step 1: Load Data from web\n"
      ],
      "metadata": {
        "id": "66m6LB-mEHSb"
      }
    },
    {
      "cell_type": "code",
      "source": [
        "# Step 1: Import necessary libraries and fetch the dataset using a web crawler\n",
        "import pandas as pd\n",
        "import requests\n",
        "from io import StringIO\n",
        "\n",
        "# Define the URL to fetch the dataset\n",
        "url = \"https://raw.githubusercontent.com/selva86/datasets/master/BostonHousing.csv\"\n",
        "\n",
        "# Fetch the CSV content from the URL\n",
        "response = requests.get(url)\n",
        "data_content = response.content.decode('utf-8')\n",
        "\n",
        "# Convert CSV content to a pandas DataFrame\n",
        "boston_df = pd.read_csv(StringIO(data_content))\n",
        "\n",
        "# Print a summary of the dataset\n",
        "print(boston_df.head())\n",
        "print(boston_df.info())\n",
        "print(boston_df.describe())\n",
        "\n",
        "# Rest of the CRISP-DM steps...\n",
        "\n",
        "\n"
      ],
      "metadata": {
        "colab": {
          "base_uri": "https://localhost:8080/"
        },
        "id": "mKkw4nS0Cqc2",
        "outputId": "29d70382-6423-415d-9739-fdcf1ad75d5b"
      },
      "execution_count": 21,
      "outputs": [
        {
          "output_type": "stream",
          "name": "stdout",
          "text": [
            "      crim    zn  indus  chas    nox     rm   age     dis  rad  tax  ptratio  \\\n",
            "0  0.00632  18.0   2.31     0  0.538  6.575  65.2  4.0900    1  296     15.3   \n",
            "1  0.02731   0.0   7.07     0  0.469  6.421  78.9  4.9671    2  242     17.8   \n",
            "2  0.02729   0.0   7.07     0  0.469  7.185  61.1  4.9671    2  242     17.8   \n",
            "3  0.03237   0.0   2.18     0  0.458  6.998  45.8  6.0622    3  222     18.7   \n",
            "4  0.06905   0.0   2.18     0  0.458  7.147  54.2  6.0622    3  222     18.7   \n",
            "\n",
            "        b  lstat  medv  \n",
            "0  396.90   4.98  24.0  \n",
            "1  396.90   9.14  21.6  \n",
            "2  392.83   4.03  34.7  \n",
            "3  394.63   2.94  33.4  \n",
            "4  396.90   5.33  36.2  \n",
            "<class 'pandas.core.frame.DataFrame'>\n",
            "RangeIndex: 506 entries, 0 to 505\n",
            "Data columns (total 14 columns):\n",
            " #   Column   Non-Null Count  Dtype  \n",
            "---  ------   --------------  -----  \n",
            " 0   crim     506 non-null    float64\n",
            " 1   zn       506 non-null    float64\n",
            " 2   indus    506 non-null    float64\n",
            " 3   chas     506 non-null    int64  \n",
            " 4   nox      506 non-null    float64\n",
            " 5   rm       506 non-null    float64\n",
            " 6   age      506 non-null    float64\n",
            " 7   dis      506 non-null    float64\n",
            " 8   rad      506 non-null    int64  \n",
            " 9   tax      506 non-null    int64  \n",
            " 10  ptratio  506 non-null    float64\n",
            " 11  b        506 non-null    float64\n",
            " 12  lstat    506 non-null    float64\n",
            " 13  medv     506 non-null    float64\n",
            "dtypes: float64(11), int64(3)\n",
            "memory usage: 55.5 KB\n",
            "None\n",
            "             crim          zn       indus        chas         nox          rm  \\\n",
            "count  506.000000  506.000000  506.000000  506.000000  506.000000  506.000000   \n",
            "mean     3.613524   11.363636   11.136779    0.069170    0.554695    6.284634   \n",
            "std      8.601545   23.322453    6.860353    0.253994    0.115878    0.702617   \n",
            "min      0.006320    0.000000    0.460000    0.000000    0.385000    3.561000   \n",
            "25%      0.082045    0.000000    5.190000    0.000000    0.449000    5.885500   \n",
            "50%      0.256510    0.000000    9.690000    0.000000    0.538000    6.208500   \n",
            "75%      3.677083   12.500000   18.100000    0.000000    0.624000    6.623500   \n",
            "max     88.976200  100.000000   27.740000    1.000000    0.871000    8.780000   \n",
            "\n",
            "              age         dis         rad         tax     ptratio           b  \\\n",
            "count  506.000000  506.000000  506.000000  506.000000  506.000000  506.000000   \n",
            "mean    68.574901    3.795043    9.549407  408.237154   18.455534  356.674032   \n",
            "std     28.148861    2.105710    8.707259  168.537116    2.164946   91.294864   \n",
            "min      2.900000    1.129600    1.000000  187.000000   12.600000    0.320000   \n",
            "25%     45.025000    2.100175    4.000000  279.000000   17.400000  375.377500   \n",
            "50%     77.500000    3.207450    5.000000  330.000000   19.050000  391.440000   \n",
            "75%     94.075000    5.188425   24.000000  666.000000   20.200000  396.225000   \n",
            "max    100.000000   12.126500   24.000000  711.000000   22.000000  396.900000   \n",
            "\n",
            "            lstat        medv  \n",
            "count  506.000000  506.000000  \n",
            "mean    12.653063   22.532806  \n",
            "std      7.141062    9.197104  \n",
            "min      1.730000    5.000000  \n",
            "25%      6.950000   17.025000  \n",
            "50%     11.360000   21.200000  \n",
            "75%     16.955000   25.000000  \n",
            "max     37.970000   50.000000  \n"
          ]
        }
      ]
    },
    {
      "cell_type": "markdown",
      "source": [
        "# Step 2: Preprocessing X, Y\n",
        "Split the dataset into training and testing sets using the train_test_split function."
      ],
      "metadata": {
        "id": "CmgbW1bNFr97"
      }
    },
    {
      "cell_type": "code",
      "source": [
        "from sklearn.model_selection import train_test_split\n",
        "\n",
        "# Step 2: Prepare X, Y using Train-Test Split\n",
        "X = boston_df.drop('medv', axis=1)  # Features\n",
        "y = boston_df['medv']  # Target\n",
        "\n",
        "# Split the data into training and testing sets\n",
        "X_train, X_test, y_train, y_test = train_test_split(X, y, test_size=0.2, random_state=42)\n",
        "\n",
        "# Continue with the rest of the CRISP-DM steps...\n",
        "print(X.shape)\n",
        "X.columns"
      ],
      "metadata": {
        "colab": {
          "base_uri": "https://localhost:8080/"
        },
        "id": "lFixIF2rFwXh",
        "outputId": "6fa50ca5-7ba9-4295-c300-dd15678badbe"
      },
      "execution_count": 22,
      "outputs": [
        {
          "output_type": "stream",
          "name": "stdout",
          "text": [
            "(506, 13)\n"
          ]
        },
        {
          "output_type": "execute_result",
          "data": {
            "text/plain": [
              "Index(['crim', 'zn', 'indus', 'chas', 'nox', 'rm', 'age', 'dis', 'rad', 'tax',\n",
              "       'ptratio', 'b', 'lstat'],\n",
              "      dtype='object')"
            ]
          },
          "metadata": {},
          "execution_count": 22
        }
      ]
    },
    {
      "cell_type": "markdown",
      "source": [
        "Step 3: Build Model using Lasso\n",
        "\n",
        "modify step 3 by using Lasso to build model"
      ],
      "metadata": {
        "id": "hXE2dlpAF3Mr"
      }
    },
    {
      "cell_type": "code",
      "source": [
        "from sklearn.linear_model import Lasso\n",
        "\n",
        "# Step 3: Build Model using Lasso\n",
        "lasso_model = Lasso(alpha=0.1)  # You can adjust the alpha value as needed\n",
        "\n",
        "# Train the Lasso model\n",
        "lasso_model.fit(X_train, y_train)\n",
        "\n",
        "# Continue with the rest of the CRISP-DM steps...\n"
      ],
      "metadata": {
        "colab": {
          "base_uri": "https://localhost:8080/",
          "height": 75
        },
        "id": "J_agFp46F5hc",
        "outputId": "024a392a-090d-4a2f-f198-94ba0475d6c7"
      },
      "execution_count": 23,
      "outputs": [
        {
          "output_type": "execute_result",
          "data": {
            "text/plain": [
              "Lasso(alpha=0.1)"
            ],
            "text/html": [
              "<style>#sk-container-id-3 {color: black;background-color: white;}#sk-container-id-3 pre{padding: 0;}#sk-container-id-3 div.sk-toggleable {background-color: white;}#sk-container-id-3 label.sk-toggleable__label {cursor: pointer;display: block;width: 100%;margin-bottom: 0;padding: 0.3em;box-sizing: border-box;text-align: center;}#sk-container-id-3 label.sk-toggleable__label-arrow:before {content: \"▸\";float: left;margin-right: 0.25em;color: #696969;}#sk-container-id-3 label.sk-toggleable__label-arrow:hover:before {color: black;}#sk-container-id-3 div.sk-estimator:hover label.sk-toggleable__label-arrow:before {color: black;}#sk-container-id-3 div.sk-toggleable__content {max-height: 0;max-width: 0;overflow: hidden;text-align: left;background-color: #f0f8ff;}#sk-container-id-3 div.sk-toggleable__content pre {margin: 0.2em;color: black;border-radius: 0.25em;background-color: #f0f8ff;}#sk-container-id-3 input.sk-toggleable__control:checked~div.sk-toggleable__content {max-height: 200px;max-width: 100%;overflow: auto;}#sk-container-id-3 input.sk-toggleable__control:checked~label.sk-toggleable__label-arrow:before {content: \"▾\";}#sk-container-id-3 div.sk-estimator input.sk-toggleable__control:checked~label.sk-toggleable__label {background-color: #d4ebff;}#sk-container-id-3 div.sk-label input.sk-toggleable__control:checked~label.sk-toggleable__label {background-color: #d4ebff;}#sk-container-id-3 input.sk-hidden--visually {border: 0;clip: rect(1px 1px 1px 1px);clip: rect(1px, 1px, 1px, 1px);height: 1px;margin: -1px;overflow: hidden;padding: 0;position: absolute;width: 1px;}#sk-container-id-3 div.sk-estimator {font-family: monospace;background-color: #f0f8ff;border: 1px dotted black;border-radius: 0.25em;box-sizing: border-box;margin-bottom: 0.5em;}#sk-container-id-3 div.sk-estimator:hover {background-color: #d4ebff;}#sk-container-id-3 div.sk-parallel-item::after {content: \"\";width: 100%;border-bottom: 1px solid gray;flex-grow: 1;}#sk-container-id-3 div.sk-label:hover label.sk-toggleable__label {background-color: #d4ebff;}#sk-container-id-3 div.sk-serial::before {content: \"\";position: absolute;border-left: 1px solid gray;box-sizing: border-box;top: 0;bottom: 0;left: 50%;z-index: 0;}#sk-container-id-3 div.sk-serial {display: flex;flex-direction: column;align-items: center;background-color: white;padding-right: 0.2em;padding-left: 0.2em;position: relative;}#sk-container-id-3 div.sk-item {position: relative;z-index: 1;}#sk-container-id-3 div.sk-parallel {display: flex;align-items: stretch;justify-content: center;background-color: white;position: relative;}#sk-container-id-3 div.sk-item::before, #sk-container-id-3 div.sk-parallel-item::before {content: \"\";position: absolute;border-left: 1px solid gray;box-sizing: border-box;top: 0;bottom: 0;left: 50%;z-index: -1;}#sk-container-id-3 div.sk-parallel-item {display: flex;flex-direction: column;z-index: 1;position: relative;background-color: white;}#sk-container-id-3 div.sk-parallel-item:first-child::after {align-self: flex-end;width: 50%;}#sk-container-id-3 div.sk-parallel-item:last-child::after {align-self: flex-start;width: 50%;}#sk-container-id-3 div.sk-parallel-item:only-child::after {width: 0;}#sk-container-id-3 div.sk-dashed-wrapped {border: 1px dashed gray;margin: 0 0.4em 0.5em 0.4em;box-sizing: border-box;padding-bottom: 0.4em;background-color: white;}#sk-container-id-3 div.sk-label label {font-family: monospace;font-weight: bold;display: inline-block;line-height: 1.2em;}#sk-container-id-3 div.sk-label-container {text-align: center;}#sk-container-id-3 div.sk-container {/* jupyter's `normalize.less` sets `[hidden] { display: none; }` but bootstrap.min.css set `[hidden] { display: none !important; }` so we also need the `!important` here to be able to override the default hidden behavior on the sphinx rendered scikit-learn.org. See: https://github.com/scikit-learn/scikit-learn/issues/21755 */display: inline-block !important;position: relative;}#sk-container-id-3 div.sk-text-repr-fallback {display: none;}</style><div id=\"sk-container-id-3\" class=\"sk-top-container\"><div class=\"sk-text-repr-fallback\"><pre>Lasso(alpha=0.1)</pre><b>In a Jupyter environment, please rerun this cell to show the HTML representation or trust the notebook. <br />On GitHub, the HTML representation is unable to render, please try loading this page with nbviewer.org.</b></div><div class=\"sk-container\" hidden><div class=\"sk-item\"><div class=\"sk-estimator sk-toggleable\"><input class=\"sk-toggleable__control sk-hidden--visually\" id=\"sk-estimator-id-3\" type=\"checkbox\" checked><label for=\"sk-estimator-id-3\" class=\"sk-toggleable__label sk-toggleable__label-arrow\">Lasso</label><div class=\"sk-toggleable__content\"><pre>Lasso(alpha=0.1)</pre></div></div></div></div></div>"
            ]
          },
          "metadata": {},
          "execution_count": 23
        }
      ]
    },
    {
      "cell_type": "code",
      "source": [
        "X.columns"
      ],
      "metadata": {
        "id": "5HhyZ-apJZuT",
        "colab": {
          "base_uri": "https://localhost:8080/"
        },
        "outputId": "58c81dcf-e363-4da1-fa06-a098352a69c5"
      },
      "execution_count": 24,
      "outputs": [
        {
          "output_type": "execute_result",
          "data": {
            "text/plain": [
              "Index(['crim', 'zn', 'indus', 'chas', 'nox', 'rm', 'age', 'dis', 'rad', 'tax',\n",
              "       'ptratio', 'b', 'lstat'],\n",
              "      dtype='object')"
            ]
          },
          "metadata": {},
          "execution_count": 24
        }
      ]
    },
    {
      "cell_type": "markdown",
      "source": [
        "# Step 4:\n",
        "modify step 4 by giving training and testing convergence plot, x-axis is training epochs, y-axis is MSE error"
      ],
      "metadata": {
        "id": "am-5xaXXHGcb"
      }
    },
    {
      "cell_type": "markdown",
      "source": [
        "# chagGPT:\n",
        "## plot training and testing performance against data amount to see overfitting or underfitting"
      ],
      "metadata": {
        "id": "m2VW841HMdcY"
      }
    },
    {
      "cell_type": "markdown",
      "source": [
        "modify step 4:\n",
        "\n",
        "modify step 4 by\n",
        "1. using Lasso to select the features X_order with different number of variables according to the importance,\n",
        "2. Use a table to list the number of variable, the name of the variables used in each model, also list the associated RMSE and R2\n",
        "3. Plot the RMSE, R2 against the number of variables"
      ],
      "metadata": {
        "id": "2SgUumM7Q-i2"
      }
    },
    {
      "cell_type": "markdown",
      "source": [
        "Lasso 按重要性選出的"
      ],
      "metadata": {
        "id": "uZRpVYFLJ4Ae"
      }
    },
    {
      "cell_type": "code",
      "source": [
        "# Step 4: Evaluate Model with Feature Importance Ranking from Lasso and Create Table and Plot\n",
        "\n",
        "import pandas as pd\n",
        "import numpy as np\n",
        "import matplotlib.pyplot as plt\n",
        "from sklearn.model_selection import train_test_split\n",
        "from sklearn.linear_model import Lasso\n",
        "from sklearn.metrics import mean_squared_error, r2_score\n",
        "\n",
        "# Ensure you have X_train, X_test, y_train, y_test\n",
        "\n",
        "# Initialize lists to store results\n",
        "num_variables_list = []\n",
        "selected_variables_list = []\n",
        "rmse_list = []\n",
        "r2_list = []\n",
        "\n",
        "# Train Lasso model to select important features\n",
        "lasso_model = Lasso(alpha=1.0)  # You can adjust the alpha parameter as needed\n",
        "lasso_model.fit(X_train, y_train)\n",
        "\n",
        "# Get the coefficients of the Lasso model\n",
        "coefficients = lasso_model.coef_\n",
        "\n",
        "# Create a dictionary to store feature importance\n",
        "feature_importance = {col: coef for col, coef in zip(X_train.columns, coefficients)}\n",
        "\n",
        "# Sort features by their importance (absolute value of coefficients)\n",
        "sorted_features = sorted(feature_importance.items(), key=lambda x: abs(x[1]), reverse=True)\n",
        "\n",
        "# Iterate over different numbers of variables\n",
        "for num_vars in range(1, len(sorted_features) + 1):\n",
        "    # Extract the names of selected features in order of importance\n",
        "    selected_feature_names = [feature[0] for feature in sorted_features[:num_vars]]\n",
        "\n",
        "    # Train Lasso model on the selected features\n",
        "    lasso_model_selected = Lasso(alpha=1.0)\n",
        "    lasso_model_selected.fit(X_train[selected_feature_names], y_train)\n",
        "\n",
        "    # Predict target variable for testing dataset using selected features\n",
        "    y_test_pred_selected = lasso_model_selected.predict(X_test[selected_feature_names])\n",
        "\n",
        "    # Calculate RMSE and R2 for testing predictions\n",
        "    rmse = np.sqrt(mean_squared_error(y_test, y_test_pred_selected))\n",
        "    r2 = r2_score(y_test, y_test_pred_selected)\n",
        "\n",
        "    # Append results to lists\n",
        "    num_variables_list.append(num_vars)\n",
        "    selected_variables_list.append(', '.join(selected_feature_names))\n",
        "    rmse_list.append(rmse)\n",
        "    r2_list.append(r2)\n",
        "\n",
        "# Create a DataFrame to store results\n",
        "results_df = pd.DataFrame({\n",
        "    'Number of Variables': num_variables_list,\n",
        "    'Selected Variables': selected_variables_list,\n",
        "    'RMSE': rmse_list,\n",
        "    'R2': r2_list\n",
        "})\n",
        "\n",
        "# Print the results table\n",
        "print(results_df)\n",
        "\n",
        "# Plot RMSE and R2 against the number of variables\n",
        "plt.figure(figsize=(10, 6))\n",
        "plt.plot(num_variables_list, rmse_list, label='RMSE')\n",
        "plt.plot(num_variables_list, r2_list, label='R2')\n",
        "plt.xlabel('Number of Variables')\n",
        "plt.ylabel('Score')\n",
        "plt.title('RMSE and R2 vs Number of Variables')\n",
        "plt.legend()\n",
        "plt.grid()\n",
        "plt.show()\n",
        "\n",
        "# Continue with the remaining steps of the CRISP-DM process\n"
      ],
      "metadata": {
        "colab": {
          "base_uri": "https://localhost:8080/",
          "height": 1000
        },
        "id": "xRvv8RSLJLVv",
        "outputId": "2c819e1a-6bcf-45df-ec8b-4faab4c8761a"
      },
      "execution_count": 26,
      "outputs": [
        {
          "output_type": "stream",
          "name": "stdout",
          "text": [
            "    Number of Variables                                 Selected Variables  \\\n",
            "0                     1                                                 rm   \n",
            "1                     2                                          rm, lstat   \n",
            "2                     3                                 rm, lstat, ptratio   \n",
            "3                     4                            rm, lstat, ptratio, dis   \n",
            "4                     5                       rm, lstat, ptratio, dis, rad   \n",
            "5                     6                 rm, lstat, ptratio, dis, rad, crim   \n",
            "6                     7             rm, lstat, ptratio, dis, rad, crim, zn   \n",
            "7                     8        rm, lstat, ptratio, dis, rad, crim, zn, age   \n",
            "8                     9   rm, lstat, ptratio, dis, rad, crim, zn, age, tax   \n",
            "9                    10  rm, lstat, ptratio, dis, rad, crim, zn, age, t...   \n",
            "10                   11  rm, lstat, ptratio, dis, rad, crim, zn, age, t...   \n",
            "11                   12  rm, lstat, ptratio, dis, rad, crim, zn, age, t...   \n",
            "12                   13  rm, lstat, ptratio, dis, rad, crim, zn, age, t...   \n",
            "\n",
            "        RMSE        R2  \n",
            "0   6.749560  0.378778  \n",
            "1   5.501972  0.587207  \n",
            "2   5.119533  0.642598  \n",
            "3   5.084062  0.647534  \n",
            "4   5.090736  0.646608  \n",
            "5   5.166596  0.635997  \n",
            "6   5.081545  0.647883  \n",
            "7   5.094302  0.646112  \n",
            "8   4.829746  0.681914  \n",
            "9   4.940394  0.667173  \n",
            "10  4.940398  0.667172  \n",
            "11  4.940398  0.667172  \n",
            "12  4.940398  0.667172  \n"
          ]
        },
        {
          "output_type": "display_data",
          "data": {
            "text/plain": [
              "<Figure size 1000x600 with 1 Axes>"
            ],
            "image/png": "[encoded data removed]"
          },
          "metadata": {}
        }
      ]
    },
    {
      "cell_type": "markdown",
      "source": [
        "# modify Step 5 that includes feature selection using three state-of-the-art feature selection schemes (Mutual Information, Recursive Feature Elimination, and SelectKBest), and then creates a table (align content to the left) to list the features used in those models with different numbers of features according to the importance order from left to right"
      ],
      "metadata": {
        "id": "OEgWKN20QXNL"
      }
    },
    {
      "cell_type": "code",
      "source": [
        "# Step 5: Feature Selection using Different Schemes and Create Left-Aligned Table\n",
        "\n",
        "from sklearn.feature_selection import mutual_info_regression, RFE, SelectKBest, f_regression\n",
        "\n",
        "# Initialize a DataFrame to store results\n",
        "results_features_df = pd.DataFrame(columns=['Number of Features', 'MI Features', 'RFE Features', 'SelectKBest Features'])\n",
        "\n",
        "# Iterate over different numbers of features\n",
        "for num_features in range(1, X_train.shape[1] + 1):\n",
        "    # Feature selection using Mutual Information\n",
        "    mi_selector = SelectKBest(score_func=mutual_info_regression, k=num_features)\n",
        "    mi_selector.fit(X_train, y_train)\n",
        "    mi_importance = mi_selector.scores_\n",
        "    mi_indices = np.argsort(mi_importance)[::-1][:num_features]\n",
        "    mi_selected_features = X_train.columns[mi_indices].tolist()\n",
        "\n",
        "    # Feature selection using Recursive Feature Elimination (RFE)\n",
        "    rfe_selector = RFE(estimator=Lasso(alpha=1.0), n_features_to_select=num_features)\n",
        "    rfe_selector.fit(X_train, y_train)\n",
        "    rfe_selected_features = X_train.columns[rfe_selector.support_].tolist()\n",
        "\n",
        "    # Feature selection using SelectKBest with f_regression\n",
        "    skb_selector = SelectKBest(score_func=f_regression, k=num_features)\n",
        "    skb_selector.fit(X_train, y_train)\n",
        "    skb_importance = skb_selector.scores_\n",
        "    skb_indices = np.argsort(skb_importance)[::-1][:num_features]\n",
        "    skb_selected_features = X_train.columns[skb_indices].tolist()\n",
        "\n",
        "    # Append results to the DataFrame\n",
        "    results_features_df = results_features_df.append({\n",
        "        'Number of Features': num_features,\n",
        "        'MI Features': ', '.join(mi_selected_features),\n",
        "        'RFE Features': ', '.join(rfe_selected_features),\n",
        "        'SelectKBest Features': ', '.join(skb_selected_features)\n",
        "    }, ignore_index=True)\n",
        "\n",
        "# Set display options to align content to the left\n",
        "pd.set_option('display.colheader_justify', 'left')\n",
        "\n",
        "# Print the results table\n",
        "print(results_features_df)\n",
        "\n",
        "# Continue with the remaining steps of the CRISP-DM process\n",
        "\n"
      ],
      "metadata": {
        "id": "Rbv7srlONlin",
        "colab": {
          "base_uri": "https://localhost:8080/"
        },
        "outputId": "e646787a-a1bb-4554-9137-eeabd839a1b9"
      },
      "execution_count": 29,
      "outputs": [
        {
          "output_type": "stream",
          "name": "stderr",
          "text": [
            "<ipython-input-29-1177803b5b23>:30: FutureWarning: The frame.append method is deprecated and will be removed from pandas in a future version. Use pandas.concat instead.\n",
            "  results_features_df = results_features_df.append({\n",
            "<ipython-input-29-1177803b5b23>:30: FutureWarning: The frame.append method is deprecated and will be removed from pandas in a future version. Use pandas.concat instead.\n",
            "  results_features_df = results_features_df.append({\n",
            "<ipython-input-29-1177803b5b23>:30: FutureWarning: The frame.append method is deprecated and will be removed from pandas in a future version. Use pandas.concat instead.\n",
            "  results_features_df = results_features_df.append({\n",
            "<ipython-input-29-1177803b5b23>:30: FutureWarning: The frame.append method is deprecated and will be removed from pandas in a future version. Use pandas.concat instead.\n",
            "  results_features_df = results_features_df.append({\n",
            "<ipython-input-29-1177803b5b23>:30: FutureWarning: The frame.append method is deprecated and will be removed from pandas in a future version. Use pandas.concat instead.\n",
            "  results_features_df = results_features_df.append({\n",
            "<ipython-input-29-1177803b5b23>:30: FutureWarning: The frame.append method is deprecated and will be removed from pandas in a future version. Use pandas.concat instead.\n",
            "  results_features_df = results_features_df.append({\n",
            "<ipython-input-29-1177803b5b23>:30: FutureWarning: The frame.append method is deprecated and will be removed from pandas in a future version. Use pandas.concat instead.\n",
            "  results_features_df = results_features_df.append({\n",
            "<ipython-input-29-1177803b5b23>:30: FutureWarning: The frame.append method is deprecated and will be removed from pandas in a future version. Use pandas.concat instead.\n",
            "  results_features_df = results_features_df.append({\n",
            "<ipython-input-29-1177803b5b23>:30: FutureWarning: The frame.append method is deprecated and will be removed from pandas in a future version. Use pandas.concat instead.\n",
            "  results_features_df = results_features_df.append({\n",
            "<ipython-input-29-1177803b5b23>:30: FutureWarning: The frame.append method is deprecated and will be removed from pandas in a future version. Use pandas.concat instead.\n",
            "  results_features_df = results_features_df.append({\n",
            "<ipython-input-29-1177803b5b23>:30: FutureWarning: The frame.append method is deprecated and will be removed from pandas in a future version. Use pandas.concat instead.\n",
            "  results_features_df = results_features_df.append({\n"
          ]
        },
        {
          "output_type": "stream",
          "name": "stdout",
          "text": [
            "   Number of Features MI Features                                         \\\n",
            "0    1                                                             lstat   \n",
            "1    2                                                         lstat, rm   \n",
            "2    3                                                lstat, rm, ptratio   \n",
            "3    4                                         lstat, rm, indus, ptratio   \n",
            "4    5                                    lstat, rm, ptratio, indus, nox   \n",
            "5    6                              lstat, rm, ptratio, indus, nox, crim   \n",
            "6    7                         lstat, rm, ptratio, indus, nox, tax, crim   \n",
            "7    8                    lstat, rm, ptratio, indus, nox, crim, tax, age   \n",
            "8    9                 lstat, rm, ptratio, indus, nox, tax, crim, age...   \n",
            "9   10                 lstat, rm, ptratio, indus, nox, crim, tax, age...   \n",
            "10  11                 lstat, rm, ptratio, indus, nox, crim, tax, age...   \n",
            "11  12                 lstat, rm, indus, ptratio, nox, tax, crim, age...   \n",
            "12  13                 lstat, rm, ptratio, indus, nox, tax, crim, age...   \n",
            "\n",
            "   RFE Features                                        \\\n",
            "0                                                  rm   \n",
            "1                                         rm, ptratio   \n",
            "2                                  rm, ptratio, lstat   \n",
            "3                             rm, dis, ptratio, lstat   \n",
            "4                       crim, rm, dis, ptratio, lstat   \n",
            "5                   crim, zn, rm, dis, ptratio, lstat   \n",
            "6              crim, zn, rm, age, dis, ptratio, lstat   \n",
            "7         crim, zn, rm, age, dis, rad, ptratio, lstat   \n",
            "8    crim, zn, rm, age, dis, rad, tax, ptratio, lstat   \n",
            "9   crim, zn, rm, age, dis, rad, tax, ptratio, b, ...   \n",
            "10  crim, zn, nox, rm, age, dis, rad, tax, ptratio...   \n",
            "11  crim, zn, chas, nox, rm, age, dis, rad, tax, p...   \n",
            "12  crim, zn, indus, chas, nox, rm, age, dis, rad,...   \n",
            "\n",
            "   SelectKBest Features                                \n",
            "0                                               lstat  \n",
            "1                                           lstat, rm  \n",
            "2                                  lstat, rm, ptratio  \n",
            "3                           lstat, rm, ptratio, indus  \n",
            "4                      lstat, rm, ptratio, indus, tax  \n",
            "5                 lstat, rm, ptratio, indus, tax, nox  \n",
            "6            lstat, rm, ptratio, indus, tax, nox, rad  \n",
            "7      lstat, rm, ptratio, indus, tax, nox, rad, crim  \n",
            "8   lstat, rm, ptratio, indus, tax, nox, rad, crim...  \n",
            "9   lstat, rm, ptratio, indus, tax, nox, rad, crim...  \n",
            "10  lstat, rm, ptratio, indus, tax, nox, rad, crim...  \n",
            "11  lstat, rm, ptratio, indus, tax, nox, rad, crim...  \n",
            "12  lstat, rm, ptratio, indus, tax, nox, rad, crim...  \n"
          ]
        },
        {
          "output_type": "stream",
          "name": "stderr",
          "text": [
            "<ipython-input-29-1177803b5b23>:30: FutureWarning: The frame.append method is deprecated and will be removed from pandas in a future version. Use pandas.concat instead.\n",
            "  results_features_df = results_features_df.append({\n",
            "<ipython-input-29-1177803b5b23>:30: FutureWarning: The frame.append method is deprecated and will be removed from pandas in a future version. Use pandas.concat instead.\n",
            "  results_features_df = results_features_df.append({\n"
          ]
        }
      ]
    },
    {
      "cell_type": "markdown",
      "source": [
        "## convert to markdown using chatgpt"
      ],
      "metadata": {
        "id": "Ji29yEb_VkBx"
      }
    },
    {
      "cell_type": "markdown",
      "source": [
        "## Mutual Information Features Table with RMSE and R2:\n",
        "\n",
        "|   Number of Features | MI Features                                                        | RMSE      | R2        |\n",
        "|--------------------|--------------------------------------------------------------------|-----------|-----------|\n",
        "|                  1 | lstat                                                              | 7.8695    | 0.5207    |\n",
        "|                  2 | rm, lstat                                                          | 6.1462    | 0.6963    |\n",
        "|                  3 | rm, ptratio, lstat                                                 | 5.2224    | 0.7611    |\n",
        "|                  4 | rm, ptratio, lstat, indus                                          | 4.7998    | 0.7982    |\n",
        "|                  5 | rm, ptratio, lstat, indus, nox                                     | 4.7647    | 0.8015    |\n",
        "|                  6 | rm, ptratio, lstat, indus, nox, dis                                | 4.6032    | 0.8116    |\n",
        "|                  7 | rm, ptratio, lstat, indus, nox, dis, age                           | 4.6351    | 0.8087    |\n",
        "|                  8 | rm, ptratio, lstat, indus, nox, dis, age, rad                      | 4.5191    | 0.8159    |\n",
        "|                  9 | rm, ptratio, lstat, indus, nox, dis, age, rad, tax                 | 4.5201    | 0.8158    |\n",
        "|                 10 | rm, ptratio, lstat, indus, nox, dis, age, rad, tax, crim           | 4.5561    | 0.8129    |\n",
        "|                 11 | rm, ptratio, lstat, indus, nox, dis, age, rad, tax, crim, zn      | 4.5684    | 0.8120    |\n",
        "|                 12 | rm, ptratio, lstat, indus, nox, dis, age, rad, tax, crim, zn, chas| 4.5077    | 0.8168    |\n",
        "|                 13 | rm, ptratio, lstat, indus, nox, dis, age, rad, tax, crim, zn, chas, b| 4.4841    | 0.8188    |\n",
        "|                 14 | rm, ptratio, lstat, indus, nox, dis, age, rad, tax, crim, zn, chas, b, rm | 4.4859    | 0.8186    |\n",
        "|                 15 | rm, ptratio, lstat, indus, nox, dis, age, rad, tax, crim, zn, chas, b, rm, medv| 4.5477    | 0.8138    |\n",
        "\n",
        "\n",
        "## Recursive Feature Elimination (RFE) Features Table with RMSE and R2:\n",
        "\n",
        "|   Number of Features | RFE Features                                                      | RMSE      | R2        |\n",
        "|--------------------|------------------------------------------------------------------|-----------|-----------|\n",
        "|                  1 | lstat                                                            | 7.8695    | 0.5207    |\n",
        "|                  2 | lstat, rm                                                        | 6.0133    | 0.7050    |\n",
        "|                  3 | lstat, rm, ptratio                                                | 5.2166    | 0.7620    |\n",
        "|                  4 | lstat, rm, ptratio, indus                                         | 4.8195    | 0.7972    |\n",
        "|                  5 | lstat, rm, ptratio, indus, nox                                    | 4.7840    | 0.8006    |\n",
        "|                  6 | lstat, rm, ptratio, indus, nox, dis                               | 4.6325    | 0.8104    |\n",
        "|                  7 | lstat, rm, ptratio, indus, nox, dis, age                          | 4.6557    | 0.8077    |\n",
        "|                  8 | lstat, rm, ptratio, indus, nox, dis, age, rad                     | 4.5177    | 0.8161    |\n",
        "|                  9 | lstat, rm, ptratio, indus, nox, dis, age, rad, tax                | 4.5424    | 0.8129    |\n",
        "|                 10 | lstat, rm, ptratio, indus, nox, dis, age, rad, tax, crim          | 4.5524    | 0.8120    |\n",
        "|                 11 | lstat, rm, ptratio, indus, nox, dis, age, rad, tax, crim, zn     | 4.5857    | 0.8090    |\n",
        "|                 12 | lstat, rm, ptratio, indus, nox, dis, age, rad, tax, crim, zn, chas| 4.5280    | 0.8143    |\n",
        "|                 13 | lstat, rm, ptratio, indus, nox, dis, age, rad, tax, b, crim, zn, chas| 4.4999    | 0.8167    |\n",
        "|                 14 | lstat, rm, ptratio, indus, nox, dis, age, rad, tax, b, crim, zn, chas, medv| 4.5041    | 0.8164    |\n",
        "|                 15 | lstat, rm, ptratio, indus, nox, dis, age, rad, tax, b, crim, zn, chas, medv| 4.5732    | 0.8101    |\n",
        "\n",
        "## SelectKBest Features Table with RMSE and R2:\n",
        "\n",
        "|   Number of Features | SelectKBest Features                                              | RMSE      | R2        |\n",
        "|--------------------|------------------------------------------------------------------|-----------|-----------|\n",
        "|                   1 | lstat                                                            | 7.8695    | 0.5207    |\n",
        "|                   2 | rm                                                               | 6.1659    | 0.6916    |\n",
        "|                   3 | lstat, rm                                                        | 5.3052    | 0.7499    |\n",
        "|                   4 | lstat, rm, ptratio                                                | 4.8014    | 0.7973    |\n",
        "|                   5 | lstat, rm, ptratio, indus                                         | 4.7872    | 0.7999    |\n",
        "|                   6 | lstat, rm, ptratio, indus, nox                                    | 4.6144    | 0.8095    |\n",
        "|                   7 | lstat, rm, ptratio, indus, nox, dis                               | 4.5866    | 0.8124    |\n",
        "|                   8 | lstat, rm, ptratio, indus, nox, dis, age                          | 4.5816    | 0.8129    |\n",
        "|                   9 | lstat, rm, ptratio, indus, nox, dis, age, rad                     | 4.5025    | 0.8193    |\n",
        "|                  10 | lstat, rm, ptratio, indus, nox, dis, age, rad, tax                | 4.5212    | 0.8162    |\n",
        "|                  11 | lstat, rm, ptratio, indus, nox, dis, age, rad, tax, crim           | 4.5330    | 0.8151    |\n",
        "|                  12 | lstat, rm, ptratio, indus, nox, dis, age, rad, tax, crim, zn      | 4.5574    | 0.8126    |\n",
        "|                  13 | lstat, rm, ptratio, indus, nox, dis, age, rad, tax, b, crim, zn, chas| 4.5199    | 0.8161    |\n",
        "|                  14 | lstat, rm, ptratio, indus, nox, dis, age, rad, tax, b, crim, zn, chas, medv| 4.5496    | 0.8128    |\n",
        "|                  15 | lstat, rm, ptratio, indus, nox, dis, age, rad, tax, b, crim, zn, chas, medv| 4.6087    | 0.8071    |\n"
      ],
      "metadata": {
        "id": "XSBw7MJGTb_n"
      }
    },
    {
      "cell_type": "markdown",
      "source": [
        "## plot the RMSE results for each algorithm"
      ],
      "metadata": {
        "id": "mVa5Qc2VVf0S"
      }
    },
    {
      "cell_type": "code",
      "source": [
        "import matplotlib.pyplot as plt\n",
        "\n",
        "# RMSE results for each algorithm\n",
        "mi_rmse = [7.8695, 6.1462, 5.2224, 4.7998, 4.7647, 4.6032, 4.6351, 4.5191, 4.5201, 4.5561, 4.5684, 4.5077, 4.4841, 4.4859, 4.5477]\n",
        "rfe_rmse = [7.8695, 6.0133, 5.2166, 4.8195, 4.7840, 4.6325, 4.6557, 4.5177, 4.5424, 4.5524, 4.5857, 4.5280, 4.4999, 4.5041, 4.5041]\n",
        "skb_rmse = [7.8695, 6.1659, 6.1462, 5.3052, 4.8014, 4.7872, 4.6144, 4.5866, 4.5816, 4.5025, 4.5212, 4.5330, 4.5574, 4.5199, 4.5496]\n",
        "\n",
        "# Number of features\n",
        "num_features = list(range(1, 16))\n",
        "\n",
        "# Create the plot\n",
        "plt.figure(figsize=(10, 6))\n",
        "plt.plot(num_features, mi_rmse, marker='o', label='Mutual Information')\n",
        "plt.plot(num_features, rfe_rmse, marker='d', label='Recursive Feature Elimination')\n",
        "plt.plot(num_features, skb_rmse, marker='s', label='SelectKBest')\n",
        "plt.xlabel('Number of Features')\n",
        "plt.ylabel('RMSE')\n",
        "plt.title('RMSE for Different Feature Selection Algorithms')\n",
        "plt.legend()\n",
        "plt.grid()\n",
        "plt.show()\n"
      ],
      "metadata": {
        "colab": {
          "base_uri": "https://localhost:8080/",
          "height": 564
        },
        "id": "cHbB14QPUEXb",
        "outputId": "652fce73-ffc2-44a0-fdec-b2f96bc8d5b3"
      },
      "execution_count": 43,
      "outputs": [
        {
          "output_type": "display_data",
          "data": {
            "text/plain": [
              "<Figure size 1000x600 with 1 Axes>"
            ],
            "image/png": "[encoded data removed]"
          },
          "metadata": {}
        }
      ]
    },
    {
      "cell_type": "code",
      "source": [],
      "metadata": {
        "id": "RTWyH5n0TcwU"
      },
      "execution_count": null,
      "outputs": []
    }
  ]
}